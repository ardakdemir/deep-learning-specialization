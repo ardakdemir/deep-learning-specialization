{
 "cells": [
  {
   "cell_type": "code",
   "execution_count": 1,
   "id": "dc2b7f5e",
   "metadata": {},
   "outputs": [],
   "source": [
    "import numpy as np"
   ]
  },
  {
   "cell_type": "code",
   "execution_count": 40,
   "id": "ee53c386",
   "metadata": {},
   "outputs": [],
   "source": [
    "size = int(1e6)\n",
    "repeat = 100\n",
    "x = np.random.randn(size)\n",
    "w = np.random.randn(size)"
   ]
  },
  {
   "cell_type": "code",
   "execution_count": 41,
   "id": "9eb0ac2b",
   "metadata": {},
   "outputs": [
    {
     "name": "stdout",
     "output_type": "stream",
     "text": [
      "CPU times: user 188 ms, sys: 22.3 ms, total: 210 ms\n",
      "Wall time: 26.5 ms\n"
     ]
    }
   ],
   "source": [
    "%%time\n",
    "for i in range(repeat):\n",
    "    np.dot(w,x)"
   ]
  },
  {
   "cell_type": "code",
   "execution_count": 42,
   "id": "71510f15",
   "metadata": {},
   "outputs": [
    {
     "name": "stdout",
     "output_type": "stream",
     "text": [
      "CPU times: user 28.4 s, sys: 99.8 ms, total: 28.5 s\n",
      "Wall time: 28.6 s\n"
     ]
    }
   ],
   "source": [
    "%%time\n",
    "for j in range(repeat):\n",
    "    for i in range(size):\n",
    "        w[i]*x[i]"
   ]
  },
  {
   "cell_type": "code",
   "execution_count": 43,
   "id": "817f1344",
   "metadata": {},
   "outputs": [
    {
     "data": {
      "text/plain": [
       "2299.5967722168234"
      ]
     },
     "execution_count": 43,
     "metadata": {},
     "output_type": "execute_result"
    }
   ],
   "source": [
    "np.dot(x,w)"
   ]
  },
  {
   "cell_type": "code",
   "execution_count": 46,
   "id": "e362eb43",
   "metadata": {},
   "outputs": [
    {
     "data": {
      "text/plain": [
       "array([[0.65464135],\n",
       "       [0.63658537]])"
      ]
     },
     "execution_count": 46,
     "metadata": {},
     "output_type": "execute_result"
    }
   ],
   "source": [
    "W = np.random.randn(2,3)\n",
    "X = np.random.randn(3,1)\n",
    "\n",
    "np.matmul(W,X)"
   ]
  },
  {
   "cell_type": "code",
   "execution_count": 47,
   "id": "966e634d",
   "metadata": {},
   "outputs": [
    {
     "data": {
      "text/plain": [
       "array([[0.65464135],\n",
       "       [0.63658537]])"
      ]
     },
     "execution_count": 47,
     "metadata": {},
     "output_type": "execute_result"
    }
   ],
   "source": [
    "np.dot(W,X)"
   ]
  },
  {
   "cell_type": "code",
   "execution_count": 67,
   "id": "8cd85006",
   "metadata": {},
   "outputs": [],
   "source": [
    "x = np.random.randn(3,4,5,6)\n",
    "y = np.random.randn(5,1,6,2)\n",
    "z = np.dot(x,y)"
   ]
  },
  {
   "cell_type": "code",
   "execution_count": 70,
   "id": "1d64fd41",
   "metadata": {},
   "outputs": [
    {
     "ename": "ValueError",
     "evalue": "operands could not be broadcast together with remapped shapes [original->remapped]: (3,4,5,6)->(3,4,newaxis,newaxis) (5,1,6,2)->(5,1,newaxis,newaxis)  and requested shape (5,2)",
     "output_type": "error",
     "traceback": [
      "\u001b[0;31m---------------------------------------------------------------------------\u001b[0m",
      "\u001b[0;31mValueError\u001b[0m                                Traceback (most recent call last)",
      "Cell \u001b[0;32mIn[70], line 1\u001b[0m\n\u001b[0;32m----> 1\u001b[0m \u001b[43mnp\u001b[49m\u001b[38;5;241;43m.\u001b[39;49m\u001b[43mmatmul\u001b[49m\u001b[43m(\u001b[49m\u001b[43mx\u001b[49m\u001b[43m,\u001b[49m\u001b[43my\u001b[49m\u001b[43m)\u001b[49m\n",
      "\u001b[0;31mValueError\u001b[0m: operands could not be broadcast together with remapped shapes [original->remapped]: (3,4,5,6)->(3,4,newaxis,newaxis) (5,1,6,2)->(5,1,newaxis,newaxis)  and requested shape (5,2)"
     ]
    }
   ],
   "source": [
    "np.matmul(x,y)"
   ]
  },
  {
   "cell_type": "code",
   "execution_count": 80,
   "id": "761675fd",
   "metadata": {},
   "outputs": [
    {
     "data": {
      "text/plain": [
       "(100, 3, 4, 5, 2)"
      ]
     },
     "execution_count": 80,
     "metadata": {},
     "output_type": "execute_result"
    }
   ],
   "source": [
    "x = np.random.randn(100,3,4,5,6)\n",
    "y = np.random.randn(,4,6,2)\n",
    "z = np.matmul(x,y)\n",
    "z.shape"
   ]
  },
  {
   "cell_type": "code",
   "execution_count": 54,
   "id": "0a7e40cc",
   "metadata": {},
   "outputs": [
    {
     "ename": "ValueError",
     "evalue": "shapes (3,4,6) and (2,6) not aligned: 6 (dim 2) != 2 (dim 0)",
     "output_type": "error",
     "traceback": [
      "\u001b[0;31m---------------------------------------------------------------------------\u001b[0m",
      "\u001b[0;31mValueError\u001b[0m                                Traceback (most recent call last)",
      "Cell \u001b[0;32mIn[54], line 3\u001b[0m\n\u001b[1;32m      1\u001b[0m x \u001b[38;5;241m=\u001b[39m np\u001b[38;5;241m.\u001b[39mrandom\u001b[38;5;241m.\u001b[39mrandn(\u001b[38;5;241m3\u001b[39m,\u001b[38;5;241m4\u001b[39m,\u001b[38;5;241m6\u001b[39m)\n\u001b[1;32m      2\u001b[0m y \u001b[38;5;241m=\u001b[39m np\u001b[38;5;241m.\u001b[39mrandom\u001b[38;5;241m.\u001b[39mrandn(\u001b[38;5;241m2\u001b[39m,\u001b[38;5;241m6\u001b[39m)\n\u001b[0;32m----> 3\u001b[0m z \u001b[38;5;241m=\u001b[39m \u001b[43mnp\u001b[49m\u001b[38;5;241;43m.\u001b[39;49m\u001b[43mdot\u001b[49m\u001b[43m(\u001b[49m\u001b[43mx\u001b[49m\u001b[43m,\u001b[49m\u001b[43my\u001b[49m\u001b[43m)\u001b[49m\n\u001b[1;32m      4\u001b[0m z\u001b[38;5;241m.\u001b[39mshape\n",
      "File \u001b[0;32m<__array_function__ internals>:200\u001b[0m, in \u001b[0;36mdot\u001b[0;34m(*args, **kwargs)\u001b[0m\n",
      "\u001b[0;31mValueError\u001b[0m: shapes (3,4,6) and (2,6) not aligned: 6 (dim 2) != 2 (dim 0)"
     ]
    }
   ],
   "source": [
    "x = np.random.randn(3,4,6)\n",
    "y = np.random.randn(2,6)\n",
    "z = np.dot(x,y)\n",
    "z.shape"
   ]
  },
  {
   "cell_type": "code",
   "execution_count": 57,
   "id": "673f87ef",
   "metadata": {},
   "outputs": [
    {
     "data": {
      "text/plain": [
       "(3, 4, 6)"
      ]
     },
     "execution_count": 57,
     "metadata": {},
     "output_type": "execute_result"
    }
   ],
   "source": [
    "x_e = np.exp(x)\n",
    "x_e.shape"
   ]
  },
  {
   "cell_type": "code",
   "execution_count": 62,
   "id": "a70ef095",
   "metadata": {},
   "outputs": [
    {
     "data": {
      "text/plain": [
       "4"
      ]
     },
     "execution_count": 62,
     "metadata": {},
     "output_type": "execute_result"
    }
   ],
   "source": [
    "x = np.array([1,2,3,4])\n",
    "np.max(x)"
   ]
  },
  {
   "cell_type": "code",
   "execution_count": 64,
   "id": "dbeedf10",
   "metadata": {},
   "outputs": [
    {
     "data": {
      "text/plain": [
       "array([[ 4,  1],\n",
       "       [ 9, 16]])"
      ]
     },
     "execution_count": 64,
     "metadata": {},
     "output_type": "execute_result"
    }
   ],
   "source": [
    "x = np.array([[2,1],[3,4]])\n",
    "x**2"
   ]
  },
  {
   "cell_type": "code",
   "execution_count": 65,
   "id": "abeab907",
   "metadata": {},
   "outputs": [
    {
     "data": {
      "text/plain": [
       "array([[0.5       , 1.        ],\n",
       "       [0.33333333, 0.25      ]])"
      ]
     },
     "execution_count": 65,
     "metadata": {},
     "output_type": "execute_result"
    }
   ],
   "source": [
    "1/x"
   ]
  },
  {
   "cell_type": "markdown",
   "id": "cdd3bece",
   "metadata": {},
   "source": [
    "## Broadcasting\n",
    "\n",
    "Example given a matrix where each column is a food and three rows: Carb calorie, Protein calorie, Fat calorie.\n",
    "\n",
    "Can you calculate percentage of calories for all foods from each category without a for loop? "
   ]
  },
  {
   "cell_type": "markdown",
   "id": "690403df",
   "metadata": {},
   "source": [
    "axis=0 means sum vertically, axis=1 means sum horizontally"
   ]
  },
  {
   "cell_type": "code",
   "execution_count": 97,
   "id": "3a106189",
   "metadata": {},
   "outputs": [
    {
     "data": {
      "text/plain": [
       "(3, 4)"
      ]
     },
     "execution_count": 97,
     "metadata": {},
     "output_type": "execute_result"
    }
   ],
   "source": [
    "\"\"\"\n",
    "        Apples Beef Eggs Potatoes\n",
    "Carb      x\n",
    "Protein   .\n",
    "Fat       . \n",
    "\n",
    "\"\"\";\n",
    "data = np.array([[56.0,0.0,4.4,68.9],\n",
    "        [1.2,104.0,52.0,8.0],\n",
    "        [1.8,135.0,99.0,0.9]])\n",
    "data.shape"
   ]
  },
  {
   "cell_type": "code",
   "execution_count": 98,
   "id": "672a8f23",
   "metadata": {},
   "outputs": [
    {
     "data": {
      "text/plain": [
       "array([ 59. , 239. , 155.4,  77.8])"
      ]
     },
     "execution_count": 98,
     "metadata": {},
     "output_type": "execute_result"
    }
   ],
   "source": [
    "np.sum(data,axis=0)"
   ]
  },
  {
   "cell_type": "code",
   "execution_count": 99,
   "id": "8f18700f",
   "metadata": {},
   "outputs": [],
   "source": [
    "\"\"\"\n",
    "input is of size (3,4)\n",
    "output is also of size (3,4)\n",
    "\n",
    "total_matrix = each entry is the column sum of that column\n",
    "\"\"\"\n",
    "rates = 100 * data / np.sum(data,axis=0)"
   ]
  },
  {
   "cell_type": "code",
   "execution_count": 100,
   "id": "9e550ce9",
   "metadata": {},
   "outputs": [
    {
     "data": {
      "text/plain": [
       "array([[94.91525424,  0.        ,  2.83140283, 88.56041131],\n",
       "       [ 2.03389831, 43.51464435, 33.46203346, 10.28277635],\n",
       "       [ 3.05084746, 56.48535565, 63.70656371,  1.15681234]])"
      ]
     },
     "execution_count": 100,
     "metadata": {},
     "output_type": "execute_result"
    }
   ],
   "source": [
    "rates"
   ]
  },
  {
   "cell_type": "code",
   "execution_count": 108,
   "id": "f0cf59e2",
   "metadata": {},
   "outputs": [],
   "source": [
    "b = np.array([2,3])\n",
    "d = np.array([[0,0],[0,0]])\n"
   ]
  },
  {
   "cell_type": "code",
   "execution_count": 109,
   "id": "14e43ef5",
   "metadata": {},
   "outputs": [],
   "source": [
    "x = np.random.randn(12,12,3)"
   ]
  },
  {
   "cell_type": "code",
   "execution_count": 111,
   "id": "50e27b8f",
   "metadata": {},
   "outputs": [
    {
     "data": {
      "text/plain": [
       "(432, 1)"
      ]
     },
     "execution_count": 111,
     "metadata": {},
     "output_type": "execute_result"
    }
   ],
   "source": [
    "x.reshape(-1,1).shape"
   ]
  },
  {
   "cell_type": "code",
   "execution_count": null,
   "id": "3c0d5ecf",
   "metadata": {},
   "outputs": [],
   "source": []
  }
 ],
 "metadata": {
  "kernelspec": {
   "display_name": "Python 3 (ipykernel)",
   "language": "python",
   "name": "python3"
  },
  "language_info": {
   "codemirror_mode": {
    "name": "ipython",
    "version": 3
   },
   "file_extension": ".py",
   "mimetype": "text/x-python",
   "name": "python",
   "nbconvert_exporter": "python",
   "pygments_lexer": "ipython3",
   "version": "3.11.6"
  }
 },
 "nbformat": 4,
 "nbformat_minor": 5
}
