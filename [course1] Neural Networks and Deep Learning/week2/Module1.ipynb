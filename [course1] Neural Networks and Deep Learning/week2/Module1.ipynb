{
 "cells": [
  {
   "cell_type": "code",
   "execution_count": 1,
   "id": "7c6c80e4",
   "metadata": {},
   "outputs": [],
   "source": [
    "import numpy as np"
   ]
  },
  {
   "cell_type": "code",
   "execution_count": 2,
   "id": "b895d04d",
   "metadata": {},
   "outputs": [],
   "source": [
    "def sigmoid(x):\n",
    "    return 1/(1+np.exp(-x))\n",
    "\n",
    "def test_sigmoid():\n",
    "    test_cases = [(0,0.5),\n",
    "                  (-100,0),\n",
    "                 (100,1)]\n",
    "    \n",
    "    for x,y in test_cases:\n",
    "        pred = round(sigmoid(x),4)\n",
    "        assert pred == y, f'{pred} neq {y}'\n",
    "        \n",
    "test_sigmoid()"
   ]
  },
  {
   "cell_type": "code",
   "execution_count": 3,
   "id": "01b36834",
   "metadata": {},
   "outputs": [
    {
     "name": "stdout",
     "output_type": "stream",
     "text": [
      "1e-06 0 0\n",
      "0.9999999 1 0\n",
      "0.3 0 0.3567\n"
     ]
    }
   ],
   "source": [
    "def neg_log_loss(pred,y):\n",
    "    return -(y * np.log(pred) + (1-y) * np.log(1-pred) )\n",
    "\n",
    "def test_neg_log_loss():\n",
    "    \n",
    "    test_cases = [(0.000001,0,0), (0.9999999,1,0),(0.3,0,round(-np.log(0.7),4))]\n",
    "    \n",
    "    for pred,y,loss in test_cases:\n",
    "        print(pred,y,loss)\n",
    "        neg_loss = round(neg_log_loss(pred,y),4)\n",
    "        assert neg_loss == loss , f\"{neg_loss=} neq {loss=}\"\n",
    "\n",
    "test_neg_log_loss()"
   ]
  },
  {
   "cell_type": "code",
   "execution_count": 4,
   "id": "8ff244b8",
   "metadata": {},
   "outputs": [
    {
     "data": {
      "text/plain": [
       "1.0"
      ]
     },
     "execution_count": 4,
     "metadata": {},
     "output_type": "execute_result"
    }
   ],
   "source": [
    "sigmoid(100)"
   ]
  },
  {
   "cell_type": "code",
   "execution_count": 5,
   "id": "20d3b8e4",
   "metadata": {},
   "outputs": [
    {
     "data": {
      "text/plain": [
       "0.5"
      ]
     },
     "execution_count": 5,
     "metadata": {},
     "output_type": "execute_result"
    }
   ],
   "source": [
    "sigmoid(0)"
   ]
  },
  {
   "cell_type": "markdown",
   "id": "2a090508",
   "metadata": {},
   "source": [
    "# Logistic Regression"
   ]
  },
  {
   "cell_type": "code",
   "execution_count": 6,
   "id": "b86f128d",
   "metadata": {},
   "outputs": [],
   "source": [
    "sample_size = 20\n",
    "input_dim = 3\n",
    "X = np.random.randn(input_dim,sample_size)\n",
    "Y = np.random.choice([0,1],sample_size).reshape(1,sample_size)"
   ]
  },
  {
   "cell_type": "code",
   "execution_count": 7,
   "id": "cc97b04b",
   "metadata": {},
   "outputs": [
    {
     "data": {
      "text/plain": [
       "((1, 20), (3, 20))"
      ]
     },
     "execution_count": 7,
     "metadata": {},
     "output_type": "execute_result"
    }
   ],
   "source": [
    "Y.shape, X.shape"
   ]
  },
  {
   "cell_type": "code",
   "execution_count": 8,
   "id": "38bb6a38",
   "metadata": {},
   "outputs": [],
   "source": [
    "hidden_node_size = 1\n",
    "W = np.random.randn(hidden_node_size,input_dim)\n",
    "B = np.random.randn(1)"
   ]
  },
  {
   "cell_type": "code",
   "execution_count": 9,
   "id": "a8204a68",
   "metadata": {},
   "outputs": [
    {
     "data": {
      "text/plain": [
       "((1, 3), (1,))"
      ]
     },
     "execution_count": 9,
     "metadata": {},
     "output_type": "execute_result"
    }
   ],
   "source": [
    "W.shape, B.shape"
   ]
  },
  {
   "cell_type": "code",
   "execution_count": 10,
   "id": "f424afeb",
   "metadata": {},
   "outputs": [
    {
     "data": {
      "text/plain": [
       "(1, 20)"
      ]
     },
     "execution_count": 10,
     "metadata": {},
     "output_type": "execute_result"
    }
   ],
   "source": [
    "z = np.matmul(W,X) + B\n",
    "z.shape"
   ]
  },
  {
   "cell_type": "code",
   "execution_count": 11,
   "id": "586792f2",
   "metadata": {},
   "outputs": [
    {
     "data": {
      "text/plain": [
       "array([[ 1.30108329,  3.3559704 ,  2.29305178,  5.39143942,  0.22332182,\n",
       "        -0.90609519, -1.40676835,  0.59137067,  1.91820636,  5.14922994,\n",
       "         3.55974381, -1.16140935,  3.4926294 , -1.02240655,  2.09740392,\n",
       "         4.76738831, -0.19158711, -1.1040475 , -3.45294174,  3.42278861]])"
      ]
     },
     "execution_count": 11,
     "metadata": {},
     "output_type": "execute_result"
    }
   ],
   "source": [
    "z"
   ]
  },
  {
   "cell_type": "code",
   "execution_count": 12,
   "id": "64a84fe1",
   "metadata": {},
   "outputs": [
    {
     "data": {
      "text/plain": [
       "(1, 20)"
      ]
     },
     "execution_count": 12,
     "metadata": {},
     "output_type": "execute_result"
    }
   ],
   "source": [
    "a = sigmoid(np.matmul(W,X) + B) \n",
    "a.shape"
   ]
  },
  {
   "cell_type": "code",
   "execution_count": 13,
   "id": "aba76fdf",
   "metadata": {},
   "outputs": [
    {
     "data": {
      "text/plain": [
       "array([0.        , 0.69314718, 1.09861229, 1.        ])"
      ]
     },
     "execution_count": 13,
     "metadata": {},
     "output_type": "execute_result"
    }
   ],
   "source": [
    "np.log([1,2,3,np.e])"
   ]
  },
  {
   "cell_type": "code",
   "execution_count": 14,
   "id": "e9ba8b5c",
   "metadata": {},
   "outputs": [
    {
     "data": {
      "text/plain": [
       "(1, 20)"
      ]
     },
     "execution_count": 14,
     "metadata": {},
     "output_type": "execute_result"
    }
   ],
   "source": [
    "L = Y * np.log(a) + (1-Y) * np.log(1-a)\n",
    "L.shape"
   ]
  },
  {
   "cell_type": "code",
   "execution_count": 15,
   "id": "3c8e30da",
   "metadata": {
    "scrolled": true
   },
   "outputs": [
    {
     "data": {
      "text/plain": [
       "array([[-1.54185984, -0.03428114, -2.38923239, -5.39598448, -0.81102926,\n",
       "        -0.33939587, -1.6258505 , -1.03192489, -0.13703663, -5.15501703,\n",
       "        -0.02804903, -1.43375798, -3.52259664, -1.32969137, -2.21320699,\n",
       "        -4.77585492, -0.60193483, -1.39037353, -0.03116178, -3.45488917]])"
      ]
     },
     "execution_count": 15,
     "metadata": {},
     "output_type": "execute_result"
    }
   ],
   "source": [
    "L"
   ]
  },
  {
   "cell_type": "markdown",
   "id": "708d29f6",
   "metadata": {},
   "source": [
    "## Gradient Descent for Logistic Regression\n",
    "Let's derive the equation below.\n",
    "\n",
    "Below is coming from the fact that $\\dfrac{d lnx}{dx} = \\dfrac{1}{x}$ and $\\dfrac{d ln (1-x)}{x} = -\\dfrac{1}{x}$ due to chain rule since $\\dfrac{d (-x)}{dx} = -1$\n",
    "\n",
    "\n",
    "$$\n",
    "\\dfrac{dL}{da} = - \\dfrac{Y}{a} + \\dfrac{1-Y}{1-a}\n",
    "$$\n",
    "\n",
    "Above is coming since loss is calculated as negative log likelihood over MLE $A^Y * (1-A)^{1-Y}$. \n",
    "\n",
    "\n",
    "Then if we go one step back to calculate $\\dfrac{dL}{dz}$ using chain rule:\n",
    "\n",
    "$$\n",
    "\\dfrac{dL}{dz} = \\dfrac{dL}{da} * \\dfrac{da}{dz}\n",
    "$$\n",
    "\n",
    "where\n",
    "\n",
    "$$\n",
    "\\dfrac{d\\sigma (x)}{dx} = \\sigma(x) * (1-\\sigma(x))\n",
    "$$\n",
    "\n",
    "yielding\n",
    "\n",
    "$$\n",
    "\\dfrac{dL}{dz} = - (\\dfrac{Y}{a} + \\dfrac{1-Y}{1-a}) * a * (1-a) \\\\\n",
    "= a - Y\n",
    "$$\n",
    "\n",
    "\n",
    "Finally: \n",
    "\n",
    "$$\n",
    "\\dfrac{dL}{dW} = (a - Y) * X \n",
    "$$\n",
    "\n",
    "And \n",
    "\n",
    "$$\n",
    "\\dfrac{dL}{dB} = (a-Y)\n",
    "$$"
   ]
  },
  {
   "cell_type": "markdown",
   "id": "3244ba56",
   "metadata": {},
   "source": [
    "## Backward Pass (with for loop)"
   ]
  },
  {
   "cell_type": "code",
   "execution_count": 16,
   "id": "4f567814",
   "metadata": {},
   "outputs": [
    {
     "data": {
      "text/plain": [
       "array([0. , 3. , 0.3])"
      ]
     },
     "execution_count": 16,
     "metadata": {},
     "output_type": "execute_result"
    }
   ],
   "source": [
    "np.array([0,1,0.1]) * 3 "
   ]
  },
  {
   "cell_type": "code",
   "execution_count": 17,
   "id": "190fbb7d",
   "metadata": {},
   "outputs": [
    {
     "data": {
      "text/plain": [
       "(array([[0., 0., 0.]]), array([0.]))"
      ]
     },
     "execution_count": 17,
     "metadata": {},
     "output_type": "execute_result"
    }
   ],
   "source": [
    "dW = np.zeros(W.shape)\n",
    "dB = np.zeros(B.shape)\n",
    "\n",
    "\n",
    "dW, dB"
   ]
  },
  {
   "cell_type": "code",
   "execution_count": 28,
   "id": "44572e3f",
   "metadata": {},
   "outputs": [
    {
     "name": "stdout",
     "output_type": "stream",
     "text": [
      "total_cost=array([12.0334063])\n",
      "total_cost=array([12.0334063])\n",
      "total_cost=array([12.0334063])\n",
      "total_cost=array([12.0334063])\n",
      "total_cost=array([12.0334063])\n"
     ]
    }
   ],
   "source": [
    "epoch_num = 5000\n",
    "l_r = 0.01\n",
    "for e in range(epoch_num):\n",
    "\n",
    "    dW = np.zeros(W.shape)\n",
    "    dB = np.zeros(B.shape)\n",
    "    total_cost = 0\n",
    "    for i in range(sample_size):\n",
    "        x_ = X[:,i]\n",
    "\n",
    "        z = np.matmul(W,x_) + B \n",
    "\n",
    "        a = sigmoid(z)\n",
    "        y = Y[:,i]\n",
    "        l = neg_log_loss(a,y)\n",
    "        dW += (a-y) * x_ \n",
    "\n",
    "        dB += (a-y)\n",
    "        total_cost+=l\n",
    "    if e% 1000 == 999:\n",
    "        print(f\"{total_cost=}\")\n",
    "    # update params \n",
    "    W -= l_r * dW/sample_size\n",
    "    B -= l_r * dB/sample_size "
   ]
  },
  {
   "cell_type": "markdown",
   "id": "55cc00b1",
   "metadata": {},
   "source": [
    "## Backward Pass (without for loop)\n",
    "\n",
    "Now lets write everything as matrix operations"
   ]
  },
  {
   "cell_type": "code",
   "execution_count": 165,
   "id": "5e17395d",
   "metadata": {},
   "outputs": [],
   "source": [
    "sample_size = 20\n",
    "input_dim = 50\n",
    "X = np.random.randn(input_dim,sample_size)\n",
    "Y = np.random.choice([0,1],sample_size).reshape(1,sample_size)\n",
    "hidden_node_size = 1\n",
    "W = np.random.randn(hidden_node_size,input_dim)\n",
    "B = np.random.randn(1)"
   ]
  },
  {
   "cell_type": "code",
   "execution_count": 181,
   "id": "5e036375",
   "metadata": {},
   "outputs": [],
   "source": [
    "epoch = 500\n",
    "l_r = 0.01\n",
    "for e in range(epoch):\n",
    "    Z = np.matmul(W,X) + B\n",
    "\n",
    "    A = sigmoid(Z)\n",
    "    \n",
    "    L = neg_log_loss(A,Y)\n",
    "    # print(f\"{Z.shape=} {A.shape=} {L.shape=}\")\n",
    "    #update\n",
    "    dW =  np.matmul(A-Y,X.T) \n",
    "    dB = (A-Y)\n",
    "    # print(f\"{dW.shape} {dB.shape}\")\n",
    "    W -= l_r * dW / sample_size \n",
    "    B -= l_r * np.sum(dB) / sample_size"
   ]
  },
  {
   "cell_type": "code",
   "execution_count": 182,
   "id": "606cd10b",
   "metadata": {},
   "outputs": [
    {
     "data": {
      "text/plain": [
       "0.7670965759214501"
      ]
     },
     "execution_count": 182,
     "metadata": {},
     "output_type": "execute_result"
    }
   ],
   "source": [
    "np.sum(L)"
   ]
  },
  {
   "cell_type": "code",
   "execution_count": 193,
   "id": "ddb2055f",
   "metadata": {},
   "outputs": [
    {
     "data": {
      "text/plain": [
       "(array([0.026, 0.986, 0.024, 0.   , 0.055, 0.004, 0.088, 0.   , 0.994,\n",
       "        0.956, 0.069, 0.039, 0.95 , 0.957, 0.971, 0.962, 0.941, 0.986,\n",
       "        0.06 , 0.916]),\n",
       " array([0, 1, 0, 0, 0, 0, 0, 0, 1, 1, 0, 0, 1, 1, 1, 1, 1, 1, 0, 1]))"
      ]
     },
     "execution_count": 193,
     "metadata": {},
     "output_type": "execute_result"
    }
   ],
   "source": [
    "np.round(sigmoid(np.matmul(W, X)+ B),3).reshape(1,-1)[0], Y[0]"
   ]
  },
  {
   "cell_type": "code",
   "execution_count": 122,
   "id": "a3ffcb93",
   "metadata": {},
   "outputs": [
    {
     "data": {
      "text/plain": [
       "(array([0.94871062]), array([0]))"
      ]
     },
     "execution_count": 122,
     "metadata": {},
     "output_type": "execute_result"
    }
   ],
   "source": [
    "sigmoid(np.matmul(W, X[:,1])+ B), Y[:,2]"
   ]
  },
  {
   "cell_type": "code",
   "execution_count": null,
   "id": "78522360",
   "metadata": {},
   "outputs": [],
   "source": []
  },
  {
   "cell_type": "code",
   "execution_count": null,
   "id": "f944069d",
   "metadata": {},
   "outputs": [],
   "source": []
  },
  {
   "cell_type": "code",
   "execution_count": null,
   "id": "afda0501",
   "metadata": {},
   "outputs": [],
   "source": []
  },
  {
   "cell_type": "code",
   "execution_count": null,
   "id": "2fa194d0",
   "metadata": {},
   "outputs": [],
   "source": []
  },
  {
   "cell_type": "code",
   "execution_count": null,
   "id": "4aa13ae4",
   "metadata": {},
   "outputs": [],
   "source": []
  },
  {
   "cell_type": "markdown",
   "id": "86090044",
   "metadata": {},
   "source": [
    "## Random attempt 31/12/2023"
   ]
  },
  {
   "cell_type": "code",
   "execution_count": 291,
   "id": "78346ff6",
   "metadata": {},
   "outputs": [],
   "source": [
    "import numpy as np\n",
    "X = np.array([\n",
    "    [1.,0,0],\n",
    "    [2.,0,1],\n",
    "    [3.,1,0]\n",
    "])\n",
    "Y = np.array([0,0,1])"
   ]
  },
  {
   "cell_type": "code",
   "execution_count": 292,
   "id": "ad846d3f",
   "metadata": {},
   "outputs": [],
   "source": [
    "# initialize\n",
    "W = np.random.randn(1,3)\n",
    "b = np.zeros((1,1))"
   ]
  },
  {
   "cell_type": "code",
   "execution_count": 293,
   "id": "ae00413a",
   "metadata": {},
   "outputs": [
    {
     "data": {
      "text/plain": [
       "(1, 3)"
      ]
     },
     "execution_count": 293,
     "metadata": {},
     "output_type": "execute_result"
    }
   ],
   "source": [
    "W.shape"
   ]
  },
  {
   "cell_type": "code",
   "execution_count": 294,
   "id": "33242b27",
   "metadata": {},
   "outputs": [],
   "source": [
    "def sigmoid(x):\n",
    "    return 1/(1+np.exp(-x))"
   ]
  },
  {
   "cell_type": "code",
   "execution_count": 295,
   "id": "f04eb6ba",
   "metadata": {},
   "outputs": [],
   "source": [
    "def get_loss(A,Y):\n",
    "    return Y * np.log(A) + (1-Y) * np.log(1-A)"
   ]
  },
  {
   "cell_type": "code",
   "execution_count": 296,
   "id": "6fd774f4",
   "metadata": {
    "scrolled": true
   },
   "outputs": [
    {
     "data": {
      "text/plain": [
       "0.07241126862853324"
      ]
     },
     "execution_count": 296,
     "metadata": {},
     "output_type": "execute_result"
    }
   ],
   "source": [
    "# forward pass\n",
    "for _ in range(100): \n",
    "    Z = np.matmul(W,X.T)+b\n",
    "    A = sigmoid(Z)\n",
    "    loss = -np.mean(get_loss(A,Y))\n",
    "\n",
    "    # backward pass\n",
    "    a = .1\n",
    "    dZ = A - Y\n",
    "    dW = np.matmul(dZ,X)\n",
    "    db = dZ \n",
    "    W = W - a*dW\n",
    "    b = b - a*db \n",
    "loss"
   ]
  },
  {
   "cell_type": "code",
   "execution_count": 289,
   "id": "094e4050",
   "metadata": {},
   "outputs": [
    {
     "data": {
      "text/plain": [
       "0.005478830980272446"
      ]
     },
     "execution_count": 289,
     "metadata": {},
     "output_type": "execute_result"
    }
   ],
   "source": [
    "loss"
   ]
  },
  {
   "cell_type": "code",
   "execution_count": 290,
   "id": "f93c0cc7",
   "metadata": {},
   "outputs": [
    {
     "data": {
      "text/plain": [
       "array([[0.00816854, 0.00339148, 0.99517451]])"
      ]
     },
     "execution_count": 290,
     "metadata": {},
     "output_type": "execute_result"
    }
   ],
   "source": [
    "A"
   ]
  },
  {
   "cell_type": "code",
   "execution_count": null,
   "id": "5ae1242f",
   "metadata": {},
   "outputs": [],
   "source": []
  }
 ],
 "metadata": {
  "kernelspec": {
   "display_name": "venv-karpathy",
   "language": "python",
   "name": "venv-karpathy"
  },
  "language_info": {
   "codemirror_mode": {
    "name": "ipython",
    "version": 3
   },
   "file_extension": ".py",
   "mimetype": "text/x-python",
   "name": "python",
   "nbconvert_exporter": "python",
   "pygments_lexer": "ipython3",
   "version": "3.11.6"
  }
 },
 "nbformat": 4,
 "nbformat_minor": 5
}
