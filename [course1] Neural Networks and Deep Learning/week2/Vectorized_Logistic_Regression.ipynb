{
 "cells": [
  {
   "cell_type": "code",
   "execution_count": 14,
   "id": "494e3854",
   "metadata": {},
   "outputs": [],
   "source": [
    "import numpy as np"
   ]
  },
  {
   "cell_type": "code",
   "execution_count": 87,
   "id": "b1460004",
   "metadata": {},
   "outputs": [],
   "source": [
    "input_dim = 30\n",
    "sample_size = 5\n",
    "xs = np.random.randn(input_dim,sample_size)\n",
    "\n",
    "ys = np.random.randint(2,size=(1,sample_size))"
   ]
  },
  {
   "cell_type": "code",
   "execution_count": 88,
   "id": "80d72624",
   "metadata": {},
   "outputs": [
    {
     "data": {
      "text/plain": [
       "array([[-0.47019618, -0.53636638,  0.04429353, -0.76673056, -0.86221511],\n",
       "       [-0.37730623,  0.74226272,  0.50147056, -0.21933699,  0.13569676],\n",
       "       [-0.27893917,  0.82237193,  1.48789093,  0.48068202, -0.4743439 ],\n",
       "       [-0.56528442, -0.26653308,  0.48762683,  1.8457505 ,  1.11400616],\n",
       "       [-0.42371256,  0.32423058,  2.18948471,  0.52649882, -1.63566925],\n",
       "       [ 0.04132381,  1.2425499 , -0.61175426,  2.35997251,  1.3245583 ],\n",
       "       [-0.1076485 , -2.09699904,  0.79571848, -1.44167272,  1.40705881],\n",
       "       [-0.03603094,  0.97366049,  0.92079337,  0.14946802,  0.18197155],\n",
       "       [-0.93379985, -1.13233598, -0.23299757, -0.90510676, -0.26986855],\n",
       "       [-1.27293732,  0.38152999, -1.4078416 , -0.57467358, -2.34481582],\n",
       "       [-1.12334973,  1.34815817, -0.17833407,  0.95033788,  0.69343335],\n",
       "       [-0.74258812, -0.64410254,  0.81393231,  0.07417482, -0.02987654],\n",
       "       [ 0.13369658, -1.39688262,  0.92949375,  0.17630734, -0.61475938],\n",
       "       [ 1.84504636, -0.70062621,  0.33586715, -0.04754305,  1.64011356],\n",
       "       [-0.02613927,  0.61632183,  1.50873216,  1.07422224,  0.84723492],\n",
       "       [ 1.09572223, -0.22192759, -0.27233098, -0.86223142, -0.15028187],\n",
       "       [ 1.20441764, -1.61181921, -1.09787926, -0.82436878,  1.55182731],\n",
       "       [ 0.22880885, -1.58848554,  2.63437867,  0.77294301,  0.84393041],\n",
       "       [ 0.10168527,  0.03553393,  1.11367777, -0.1484766 ,  1.03690815],\n",
       "       [-0.88632002, -0.82976793,  0.81153289,  1.42466631,  0.67027916],\n",
       "       [-0.93631862,  1.42879176,  1.88272942,  0.83577889, -0.0041947 ],\n",
       "       [-0.0514436 , -0.72518511,  0.97179717,  0.02998014, -0.83250387],\n",
       "       [ 0.81754997,  1.56184741,  1.31076864,  0.24749852, -0.39353118],\n",
       "       [ 1.44774196, -0.07026488,  0.9672817 , -0.96016466,  2.27329421],\n",
       "       [ 1.56864065, -1.19599215, -0.81915755,  0.89201504, -0.89607671],\n",
       "       [-0.51130547,  0.69460109, -1.24764111,  2.32911462, -0.5112058 ],\n",
       "       [-1.49576797, -0.33497266,  0.875372  ,  1.07835857,  1.35164864],\n",
       "       [ 0.05300216,  0.54306361, -0.90344316,  0.1318529 ,  0.02179876],\n",
       "       [-3.88306852, -0.15788188, -1.33907295,  2.2887641 ,  0.3843409 ],\n",
       "       [ 1.01889822, -1.37162945,  0.51188471, -0.64240511, -1.46670472]])"
      ]
     },
     "execution_count": 88,
     "metadata": {},
     "output_type": "execute_result"
    }
   ],
   "source": [
    "xs"
   ]
  },
  {
   "cell_type": "code",
   "execution_count": 89,
   "id": "e361292b",
   "metadata": {},
   "outputs": [
    {
     "data": {
      "text/plain": [
       "(30, 5)"
      ]
     },
     "execution_count": 89,
     "metadata": {},
     "output_type": "execute_result"
    }
   ],
   "source": [
    "xs.shape"
   ]
  },
  {
   "cell_type": "code",
   "execution_count": 90,
   "id": "f47a185d",
   "metadata": {},
   "outputs": [
    {
     "data": {
      "text/plain": [
       "array([[0, 0, 0, 0, 1]])"
      ]
     },
     "execution_count": 90,
     "metadata": {},
     "output_type": "execute_result"
    }
   ],
   "source": [
    "ys"
   ]
  },
  {
   "cell_type": "code",
   "execution_count": 91,
   "id": "a92c6adf",
   "metadata": {},
   "outputs": [
    {
     "data": {
      "text/plain": [
       "(1, 5)"
      ]
     },
     "execution_count": 91,
     "metadata": {},
     "output_type": "execute_result"
    }
   ],
   "source": [
    "ys.shape"
   ]
  },
  {
   "cell_type": "code",
   "execution_count": 94,
   "id": "98a92b16",
   "metadata": {},
   "outputs": [],
   "source": [
    "# Initialize weights\n",
    "W = np.random.randn(1,input_dim)\n",
    "B = np.random.randn(1,1)"
   ]
  },
  {
   "cell_type": "code",
   "execution_count": 95,
   "id": "934ec51d",
   "metadata": {},
   "outputs": [
    {
     "data": {
      "text/plain": [
       "(1, 30)"
      ]
     },
     "execution_count": 95,
     "metadata": {},
     "output_type": "execute_result"
    }
   ],
   "source": [
    "W.shape"
   ]
  },
  {
   "cell_type": "code",
   "execution_count": 96,
   "id": "ac92a461",
   "metadata": {},
   "outputs": [
    {
     "data": {
      "text/plain": [
       "(1, 1)"
      ]
     },
     "execution_count": 96,
     "metadata": {},
     "output_type": "execute_result"
    }
   ],
   "source": [
    "B.shape"
   ]
  },
  {
   "cell_type": "code",
   "execution_count": 97,
   "id": "8617ab47",
   "metadata": {},
   "outputs": [],
   "source": [
    "def sigmoid(x):\n",
    "    return 1/ (1+np.exp(-x))"
   ]
  },
  {
   "cell_type": "code",
   "execution_count": 98,
   "id": "dd7b25d7",
   "metadata": {},
   "outputs": [
    {
     "name": "stdout",
     "output_type": "stream",
     "text": [
      "0.951458815931925\n"
     ]
    }
   ],
   "source": [
    "# forward pass\n",
    "Z = np.matmul(W,xs) + B\n",
    "A = sigmoid(Z)\n",
    "\n",
    "L = - (ys * np.log(A) + (1-ys)*np.log(1-A))\n",
    "print(np.mean(L))"
   ]
  },
  {
   "cell_type": "code",
   "execution_count": 109,
   "id": "1ceebf5d",
   "metadata": {},
   "outputs": [],
   "source": [
    "input_dim = 30\n",
    "sample_size = 5\n",
    "xs = np.random.randn(input_dim,sample_size)\n",
    "\n",
    "ys = np.random.randint(2,size=(1,sample_size))"
   ]
  },
  {
   "cell_type": "code",
   "execution_count": 114,
   "id": "24af9239",
   "metadata": {},
   "outputs": [],
   "source": [
    "l_r = 1\n",
    "epoch = 500\n",
    "# Initialize weights\n",
    "W = np.random.randn(input_dim,1)\n",
    "B = np.random.randn(1,1)\n",
    "for e in range(epoch):\n",
    "    # forward pass\n",
    "    Z = np.dot(W.T,xs) + B\n",
    "    A = sigmoid(Z)\n",
    "    \n",
    "    # loss\n",
    "    L = - (ys * np.log(A) + (1-ys)*np.log(1-A))\n",
    "    \n",
    "    # backward pass\n",
    "    dA = A - ys\n",
    "    dW = np.dot(xs,(A-ys).T) / xs.shape[1]\n",
    "    dB = np.sum(dA) / xs.shape[1]\n",
    "\n",
    "    # update weights \n",
    "    B -= dB * l_r\n",
    "    W -= dW * l_r"
   ]
  },
  {
   "cell_type": "code",
   "execution_count": 115,
   "id": "9452901f",
   "metadata": {},
   "outputs": [
    {
     "data": {
      "text/plain": [
       "0.0003230166128485053"
      ]
     },
     "execution_count": 115,
     "metadata": {},
     "output_type": "execute_result"
    }
   ],
   "source": [
    "np.mean(L)"
   ]
  },
  {
   "cell_type": "code",
   "execution_count": 102,
   "id": "9fb33e5b",
   "metadata": {},
   "outputs": [
    {
     "data": {
      "text/plain": [
       "array([[4.21863384e-04, 9.99697932e-01, 6.65848567e-04, 9.99807329e-01,\n",
       "        9.99360884e-01]])"
      ]
     },
     "execution_count": 102,
     "metadata": {},
     "output_type": "execute_result"
    }
   ],
   "source": [
    "A "
   ]
  },
  {
   "cell_type": "code",
   "execution_count": 103,
   "id": "61f03b2b",
   "metadata": {},
   "outputs": [
    {
     "data": {
      "text/plain": [
       "array([[0, 1, 0, 1, 1]])"
      ]
     },
     "execution_count": 103,
     "metadata": {},
     "output_type": "execute_result"
    }
   ],
   "source": [
    "ys"
   ]
  }
 ],
 "metadata": {
  "kernelspec": {
   "display_name": "venv-karpathy",
   "language": "python",
   "name": "venv-karpathy"
  },
  "language_info": {
   "codemirror_mode": {
    "name": "ipython",
    "version": 3
   },
   "file_extension": ".py",
   "mimetype": "text/x-python",
   "name": "python",
   "nbconvert_exporter": "python",
   "pygments_lexer": "ipython3",
   "version": "3.11.6"
  }
 },
 "nbformat": 4,
 "nbformat_minor": 5
}
