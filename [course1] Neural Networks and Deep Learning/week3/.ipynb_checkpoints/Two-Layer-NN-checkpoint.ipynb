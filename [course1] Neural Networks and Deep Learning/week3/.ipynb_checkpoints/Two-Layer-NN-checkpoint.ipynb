{
 "cells": [
  {
   "cell_type": "code",
   "execution_count": 5,
   "id": "47867df5",
   "metadata": {},
   "outputs": [],
   "source": [
    "import numpy as np "
   ]
  },
  {
   "cell_type": "code",
   "execution_count": 26,
   "id": "d1d6bf45",
   "metadata": {},
   "outputs": [],
   "source": [
    "d = 3000\n",
    "h1 = 4000\n",
    "h2 = 1\n",
    "m = 200\n",
    "X = np.random.randn(d,m)\n",
    "W1 = np.random.randn(h1,d)\n",
    "b1 = np.random.randn(h1,1)\n",
    "W2 = np.random.randn(h2,h1)\n",
    "b2 = np.random.randn(h2,1)"
   ]
  },
  {
   "cell_type": "code",
   "execution_count": 27,
   "id": "99c71137",
   "metadata": {},
   "outputs": [],
   "source": [
    "def sigmoid(x):\n",
    "    return 1 / (1+np.exp(-x))"
   ]
  },
  {
   "cell_type": "code",
   "execution_count": 28,
   "id": "c58decd0",
   "metadata": {},
   "outputs": [
    {
     "name": "stdout",
     "output_type": "stream",
     "text": [
      "CPU times: user 285 ms, sys: 85.4 ms, total: 371 ms\n",
      "Wall time: 47.8 ms\n"
     ]
    }
   ],
   "source": [
    "%%time\n",
    "A1 = sigmoid(np.matmul(W1,X) + b1)\n",
    "A2 = sigmoid(np.matmul(W2,A1)+b2)"
   ]
  },
  {
   "cell_type": "code",
   "execution_count": 29,
   "id": "b9fdb477",
   "metadata": {},
   "outputs": [
    {
     "data": {
      "text/plain": [
       "(4000, 200)"
      ]
     },
     "execution_count": 29,
     "metadata": {},
     "output_type": "execute_result"
    }
   ],
   "source": [
    "A1.shape"
   ]
  },
  {
   "cell_type": "code",
   "execution_count": 16,
   "id": "504740a5",
   "metadata": {},
   "outputs": [
    {
     "data": {
      "text/plain": [
       "(1, 20)"
      ]
     },
     "execution_count": 16,
     "metadata": {},
     "output_type": "execute_result"
    }
   ],
   "source": [
    "A2.shape"
   ]
  },
  {
   "cell_type": "code",
   "execution_count": null,
   "id": "904dae00",
   "metadata": {},
   "outputs": [],
   "source": []
  }
 ],
 "metadata": {
  "kernelspec": {
   "display_name": "Python 3 (ipykernel)",
   "language": "python",
   "name": "python3"
  },
  "language_info": {
   "codemirror_mode": {
    "name": "ipython",
    "version": 3
   },
   "file_extension": ".py",
   "mimetype": "text/x-python",
   "name": "python",
   "nbconvert_exporter": "python",
   "pygments_lexer": "ipython3",
   "version": "3.11.6"
  }
 },
 "nbformat": 4,
 "nbformat_minor": 5
}
