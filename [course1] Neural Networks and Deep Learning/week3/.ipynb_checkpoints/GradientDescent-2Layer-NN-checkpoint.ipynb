{
 "cells": [
  {
   "cell_type": "code",
   "execution_count": 1,
   "id": "d28ca9aa",
   "metadata": {},
   "outputs": [],
   "source": [
    "import numpy as np \n",
    "import matplotlib.pyplot as plt\n",
    "%matplotlib inline"
   ]
  },
  {
   "cell_type": "code",
   "execution_count": 29,
   "id": "5c005bb7",
   "metadata": {},
   "outputs": [],
   "source": [
    "m = 4\n",
    "xs = np.random.randn(5,m)\n",
    "ys = np.random.randint(2,size=(1,m))"
   ]
  },
  {
   "cell_type": "code",
   "execution_count": 5,
   "id": "f5bdf2cc",
   "metadata": {},
   "outputs": [
    {
     "data": {
      "text/plain": [
       "(5, 4)"
      ]
     },
     "execution_count": 5,
     "metadata": {},
     "output_type": "execute_result"
    }
   ],
   "source": [
    "xs.shape"
   ]
  },
  {
   "cell_type": "code",
   "execution_count": 6,
   "id": "23a0590f",
   "metadata": {},
   "outputs": [
    {
     "data": {
      "text/plain": [
       "(1, 4)"
      ]
     },
     "execution_count": 6,
     "metadata": {},
     "output_type": "execute_result"
    }
   ],
   "source": [
    "ys.shape"
   ]
  },
  {
   "cell_type": "code",
   "execution_count": 9,
   "id": "7ad0af15",
   "metadata": {},
   "outputs": [],
   "source": [
    "def sigmoid(x):\n",
    "    return 1 / (1+np.exp(-x))"
   ]
  },
  {
   "cell_type": "code",
   "execution_count": 12,
   "id": "39accef6",
   "metadata": {},
   "outputs": [],
   "source": [
    "# initialize the weights\n",
    "hidden_dim = 6\n",
    "W1 = np.random.randn(hidden_dim,5) * 0.01\n",
    "B1 = np.zeros((hidden_dim,1)) \n",
    "\n",
    "W2 = np.random.randn(1,hidden_dim) * 0.01\n",
    "B2 = np.zeros((1,1))"
   ]
  },
  {
   "cell_type": "code",
   "execution_count": 13,
   "id": "4cbcc71b",
   "metadata": {},
   "outputs": [
    {
     "data": {
      "text/plain": [
       "(6, 5)"
      ]
     },
     "execution_count": 13,
     "metadata": {},
     "output_type": "execute_result"
    }
   ],
   "source": [
    "W1.shape"
   ]
  },
  {
   "cell_type": "code",
   "execution_count": 14,
   "id": "11dfddb5",
   "metadata": {},
   "outputs": [
    {
     "data": {
      "text/plain": [
       "(1, 6)"
      ]
     },
     "execution_count": 14,
     "metadata": {},
     "output_type": "execute_result"
    }
   ],
   "source": [
    "W2.shape"
   ]
  },
  {
   "cell_type": "code",
   "execution_count": 15,
   "id": "a4a5fb9d",
   "metadata": {},
   "outputs": [
    {
     "data": {
      "text/plain": [
       "array([[-0.01013385,  0.00888159,  0.00495258, -0.00212366, -0.00995394,\n",
       "        -0.00219368]])"
      ]
     },
     "execution_count": 15,
     "metadata": {},
     "output_type": "execute_result"
    }
   ],
   "source": [
    "W2"
   ]
  },
  {
   "cell_type": "code",
   "execution_count": 19,
   "id": "aac12d45",
   "metadata": {},
   "outputs": [
    {
     "data": {
      "text/plain": [
       "(1, 1)"
      ]
     },
     "execution_count": 19,
     "metadata": {},
     "output_type": "execute_result"
    }
   ],
   "source": [
    "B2.shape"
   ]
  },
  {
   "cell_type": "code",
   "execution_count": 67,
   "id": "1a5fd864",
   "metadata": {},
   "outputs": [
    {
     "data": {
      "text/plain": [
       "0.6868710682619814"
      ]
     },
     "execution_count": 67,
     "metadata": {},
     "output_type": "execute_result"
    }
   ],
   "source": [
    "# forward pass\n",
    "Z1 = np.dot(W1,xs)+B1\n",
    "A1 = np.tanh(Z1)\n",
    "\n",
    "A2 = sigmoid(np.dot(W2,A1)+B2)\n",
    "\n",
    "L = - (ys * np.log(A2) + (1-ys)*np.log(1-A2)) \n",
    "np.mean(L)"
   ]
  },
  {
   "cell_type": "code",
   "execution_count": 42,
   "id": "3dc1a65b",
   "metadata": {},
   "outputs": [
    {
     "data": {
      "text/plain": [
       "array([[0.50007345, 0.50011136, 0.50008264, 0.49999719]])"
      ]
     },
     "execution_count": 42,
     "metadata": {},
     "output_type": "execute_result"
    }
   ],
   "source": [
    "A2"
   ]
  },
  {
   "cell_type": "code",
   "execution_count": 43,
   "id": "3d3bc787",
   "metadata": {},
   "outputs": [
    {
     "data": {
      "text/plain": [
       "[<matplotlib.lines.Line2D at 0x11bbed210>]"
      ]
     },
     "execution_count": 43,
     "metadata": {},
     "output_type": "execute_result"
    },
    {
     "data": {
      "image/png": "[encoded data removed]",
      "text/plain": [
       "<Figure size 640x480 with 1 Axes>"
      ]
     },
     "metadata": {},
     "output_type": "display_data"
    }
   ],
   "source": [
    "x = np.arange(-2,2,0.1)\n",
    "y = sigmoid(x)\n",
    "plt.plot(x,y)"
   ]
  },
  {
   "cell_type": "code",
   "execution_count": 44,
   "id": "823ab679",
   "metadata": {},
   "outputs": [],
   "source": [
    "# backward pass\n",
    "dZ2 = A2 - ys"
   ]
  },
  {
   "cell_type": "code",
   "execution_count": 45,
   "id": "47ea95d5",
   "metadata": {},
   "outputs": [
    {
     "data": {
      "text/plain": [
       "(1, 4)"
      ]
     },
     "execution_count": 45,
     "metadata": {},
     "output_type": "execute_result"
    }
   ],
   "source": [
    "dZ2.shape"
   ]
  },
  {
   "cell_type": "code",
   "execution_count": 46,
   "id": "82e49cfe",
   "metadata": {},
   "outputs": [],
   "source": [
    "dW2 = np.dot(dZ2,A1.T)"
   ]
  },
  {
   "cell_type": "code",
   "execution_count": 47,
   "id": "63cbc795",
   "metadata": {},
   "outputs": [
    {
     "data": {
      "text/plain": [
       "True"
      ]
     },
     "execution_count": 47,
     "metadata": {},
     "output_type": "execute_result"
    }
   ],
   "source": [
    "dW2.shape == W2.shape"
   ]
  },
  {
   "cell_type": "code",
   "execution_count": 55,
   "id": "0ab17371",
   "metadata": {},
   "outputs": [],
   "source": [
    "dB2 = np.sum(dZ2,axis=1,keepdims=True) / m"
   ]
  },
  {
   "cell_type": "code",
   "execution_count": 56,
   "id": "5f532827",
   "metadata": {},
   "outputs": [
    {
     "data": {
      "text/plain": [
       "(1, 1)"
      ]
     },
     "execution_count": 56,
     "metadata": {},
     "output_type": "execute_result"
    }
   ],
   "source": [
    "dB2.shape"
   ]
  },
  {
   "cell_type": "code",
   "execution_count": 57,
   "id": "5897bf92",
   "metadata": {},
   "outputs": [
    {
     "data": {
      "text/plain": [
       "True"
      ]
     },
     "execution_count": 57,
     "metadata": {},
     "output_type": "execute_result"
    }
   ],
   "source": [
    "dB2.shape == B2.shape"
   ]
  },
  {
   "cell_type": "code",
   "execution_count": 58,
   "id": "ff770554",
   "metadata": {},
   "outputs": [],
   "source": [
    "# dZ1 => dZ2 *  d`(Z2)/d`(Z1)  \n",
    "dZ1 = np.dot(W2.T,dZ2) * (1 - Z1**2)"
   ]
  },
  {
   "cell_type": "code",
   "execution_count": 59,
   "id": "749baac1",
   "metadata": {},
   "outputs": [
    {
     "data": {
      "text/plain": [
       "(6, 4)"
      ]
     },
     "execution_count": 59,
     "metadata": {},
     "output_type": "execute_result"
    }
   ],
   "source": [
    "dZ1.shape"
   ]
  },
  {
   "cell_type": "code",
   "execution_count": 60,
   "id": "ccf741a2",
   "metadata": {},
   "outputs": [],
   "source": [
    "# dW1 \n",
    "dW1 = np.dot(dZ1,xs.T)"
   ]
  },
  {
   "cell_type": "code",
   "execution_count": 61,
   "id": "2bf26f72",
   "metadata": {},
   "outputs": [
    {
     "data": {
      "text/plain": [
       "(6, 5)"
      ]
     },
     "execution_count": 61,
     "metadata": {},
     "output_type": "execute_result"
    }
   ],
   "source": [
    "dW1.shape "
   ]
  },
  {
   "cell_type": "code",
   "execution_count": 62,
   "id": "93a2abd1",
   "metadata": {},
   "outputs": [],
   "source": [
    "dB1 = np.sum(dZ1,axis=1,keepdims=True) / m"
   ]
  },
  {
   "cell_type": "code",
   "execution_count": 63,
   "id": "66e0dfa7",
   "metadata": {},
   "outputs": [
    {
     "data": {
      "text/plain": [
       "(6, 1)"
      ]
     },
     "execution_count": 63,
     "metadata": {},
     "output_type": "execute_result"
    }
   ],
   "source": [
    "dB1.shape"
   ]
  },
  {
   "cell_type": "code",
   "execution_count": 66,
   "id": "e53c953f",
   "metadata": {},
   "outputs": [],
   "source": [
    "# update the weights\n",
    "l_r = 0.1\n",
    "W2 = W2 - l_r * dW2\n",
    "B2 = B2 - l_r * dB2\n",
    "W1 = W1 - l_r * dW1\n",
    "B1 = B1 - l_r * dB1 "
   ]
  },
  {
   "cell_type": "code",
   "execution_count": 70,
   "id": "fed5c110",
   "metadata": {},
   "outputs": [],
   "source": [
    "# initialize the weights\n",
    "hidden_dim = 6\n",
    "W1 = np.random.randn(hidden_dim,5) * 0.01\n",
    "B1 = np.zeros((hidden_dim,1)) \n",
    "\n",
    "W2 = np.random.randn(1,hidden_dim) * 0.01\n",
    "B2 = np.zeros((1,1))"
   ]
  },
  {
   "cell_type": "code",
   "execution_count": 79,
   "id": "aa173665",
   "metadata": {},
   "outputs": [],
   "source": [
    "def forward_pass(w1,b1,w2,b2,x):\n",
    "    return sigmoid(np.dot(W2,np.tanh(np.dot(w1,x)+b1))+B2)\n",
    "\n",
    "def predict(w1,b1,w2,b2,x):\n",
    "    a_s = forward_pass(w1,b1,w2,b2,x)\n",
    "    \n",
    "    return np.floor(a_s +0.5)"
   ]
  },
  {
   "cell_type": "code",
   "execution_count": 86,
   "id": "843834e8",
   "metadata": {
    "scrolled": true
   },
   "outputs": [
    {
     "name": "stdout",
     "output_type": "stream",
     "text": [
      "0.02242374347666181\n",
      "0.021083652996961407\n",
      "0.019823766053599607\n",
      "0.018639322217639073\n",
      "0.01752583561178435\n",
      "0.016479080306086084\n",
      "0.015495076305593066\n",
      "0.01457007613589895\n",
      "0.013700552026218657\n",
      "0.012883183684544457\n",
      "0.012114846655393372\n",
      "0.011392601247483347\n",
      "0.0107136820162299\n",
      "0.010075487784109098\n",
      "0.009475572180595731\n",
      "0.008911634682456612\n",
      "0.008381512134601575\n",
      "0.007883170731391763\n",
      "0.007414698438236211\n",
      "0.006974297833423449\n",
      "0.006560279350401487\n",
      "0.0061710549011015445\n",
      "0.005805131861378323\n",
      "0.005461107400186864\n",
      "0.005137663134713791\n",
      "0.004833560094318773\n",
      "0.004547633976801615\n",
      "0.004278790681187334\n",
      "0.004026002101900937\n",
      "0.003788302169885292\n",
      "0.003564783126886055\n",
      "0.0033545920197924606\n",
      "0.0031569274025661674\n",
      "0.002971036233922016\n",
      "0.0027962109595327696\n",
      "0.0026317867681186994\n",
      "0.00247713901134877\n",
      "0.0023316807780235853\n",
      "0.002194860613530015\n",
      "0.002066160376055314\n",
      "0.0019450932215216029\n",
      "0.0018312017096523078\n",
      "0.0017240560240135603\n",
      "0.0016232522992774836\n",
      "0.001528411049343862\n",
      "0.001439175690321242\n",
      "0.001355211152714344\n",
      "0.0012762025774959783\n",
      "0.0012018540910468435\n",
      "0.0011318876542441958\n",
      "0.0010660419812534327\n",
      "0.0010040715238408173\n",
      "0.0009457455172682251\n",
      "0.0008908470840673038\n",
      "0.0008391723922062675\n",
      "0.0007905298643705421\n",
      "0.0007447394352729772\n",
      "0.0007016318540923486\n",
      "0.0006610480293115591\n",
      "0.0006228384133905488\n",
      "0.0005868624248606508\n",
      "0.0005529879055725568\n",
      "0.0005210906109655614\n",
      "0.0004910537313528044\n",
      "0.00046276744233945656\n",
      "0.0004361284826014912\n",
      "0.0004110397573619264\n",
      "0.00038740996599864974\n",
      "0.0003651532523163375\n",
      "0.0003441888760988166\n",
      "0.0003244409046469505\n",
      "0.00030583792308055583\n",
      "0.00028831276226160484\n",
      "0.000271802243260603\n",
      "0.00025624693735828736\n",
      "0.00024159094063163\n",
      "0.0002277816622346936\n",
      "0.0002147696255357045\n",
      "0.0002025082813265196\n",
      "0.00019095383236447522\n",
      "0.0001800650685557986\n",
      "0.0001698032121284299\n",
      "0.00016013177218456224\n",
      "0.0001510164080592079\n",
      "0.00014242480094707322\n",
      "0.0001343265332910999\n",
      "0.00012669297546091197\n",
      "0.00011949717927364287\n",
      "0.00011271377794048664\n",
      "0.00010631889204664069\n",
      "0.00010029004119667666\n",
      "9.460606097960344e-05\n",
      "8.924702492931044e-05\n",
      "8.419417117657038e-05\n",
      "7.942983350623104e-05\n",
      "7.493737655255451e-05\n",
      "7.070113487965811e-05\n",
      "6.670635571236283e-05\n",
      "6.293914509480804e-05\n",
      "5.938641726935886e-05\n"
     ]
    }
   ],
   "source": [
    "# training loop \n",
    "epoch = 1000\n",
    "\n",
    "for e in range(epoch): \n",
    "    # forward pass\n",
    "    Z1 = np.dot(W1,xs)+B1\n",
    "    A1 = np.tanh(Z1)\n",
    "\n",
    "    A2 = sigmoid(np.dot(W2,A1)+B2)\n",
    "\n",
    "    L = - (ys * np.log(A2) + (1-ys)*np.log(1-A2)) \n",
    "    loss = np.mean(L)\n",
    "\n",
    "    # backward pass\n",
    "    dZ2 = A2 - ys\n",
    "    d2W = np.dot(dZ2,A1.T) / m\n",
    "    dB2 = np.sum(dZ2,axis=1,keepdims=True) / m\n",
    "    dZ1 = np.dot(W2.T,dZ2) * (1 - Z1**2)\n",
    "    dW1 = np.dot(dZ1,xs.T) / m \n",
    "    dB1 = np.sum(dZ1,axis=1,keepdims=True) / m\n",
    "    \n",
    "    # update the weights\n",
    "    l_r = 0.1\n",
    "    W2 = W2 - l_r * dW2\n",
    "    B2 = B2 - l_r * dB2\n",
    "    W1 = W1 - l_r * dW1\n",
    "    B1 = B1 - l_r * dB1 \n",
    "    \n",
    "    if (e+1) % 10 == 0:\n",
    "        print(loss)"
   ]
  },
  {
   "cell_type": "code",
   "execution_count": 87,
   "id": "77b1bd6a",
   "metadata": {},
   "outputs": [],
   "source": [
    "pred_y = predict(W1,B1,W2,B2,xs)\n",
    "probs_y = forward_pass(W1,B1,W2,B2,xs)"
   ]
  },
  {
   "cell_type": "code",
   "execution_count": 88,
   "id": "d5eddee8",
   "metadata": {},
   "outputs": [
    {
     "data": {
      "text/plain": [
       "array([[ True,  True,  True,  True]])"
      ]
     },
     "execution_count": 88,
     "metadata": {},
     "output_type": "execute_result"
    }
   ],
   "source": [
    "pred_y == ys"
   ]
  },
  {
   "cell_type": "code",
   "execution_count": 89,
   "id": "763178f1",
   "metadata": {},
   "outputs": [
    {
     "data": {
      "text/plain": [
       "array([[9.99883839e-01, 6.47599134e-06, 1.08046947e-04, 5.47340373e-06]])"
      ]
     },
     "execution_count": 89,
     "metadata": {},
     "output_type": "execute_result"
    }
   ],
   "source": [
    "probs_y"
   ]
  },
  {
   "cell_type": "code",
   "execution_count": null,
   "id": "a0a226bd",
   "metadata": {},
   "outputs": [],
   "source": []
  }
 ],
 "metadata": {
  "kernelspec": {
   "display_name": "venv-karpathy",
   "language": "python",
   "name": "venv-karpathy"
  },
  "language_info": {
   "codemirror_mode": {
    "name": "ipython",
    "version": 3
   },
   "file_extension": ".py",
   "mimetype": "text/x-python",
   "name": "python",
   "nbconvert_exporter": "python",
   "pygments_lexer": "ipython3",
   "version": "3.11.6"
  }
 },
 "nbformat": 4,
 "nbformat_minor": 5
}
