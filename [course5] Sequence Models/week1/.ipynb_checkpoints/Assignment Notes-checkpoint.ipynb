{
 "cells": [
  {
   "cell_type": "markdown",
   "id": "a52b234a",
   "metadata": {},
   "source": [
    "# Assignment 1\n",
    "\n",
    "I think the input shape is a bit interesting to get very comfortable with:\n",
    "\n",
    "#### Batches of size $m$\n",
    "* Let's say we have mini-batches, each with 20 training examples  \n",
    "* To benefit from vectorization, you'll stack 20 columns of $x^{(i)}$ examples\n",
    "* For example, this tensor has the shape (5000,20,10) \n",
    "* You'll use $m$ to denote the number of training examples  \n",
    "* So, the shape of a mini-batch is $(n_x,m,T_x)$\n",
    "\n",
    "\n",
    "#### 3D Tensor of shape $(n_{x},m,T_{x})$\n",
    "* The 3-dimensional tensor $x$ of shape $(n_x,m,T_x)$ represents the input $x$ that is fed into the RNN\n",
    "\n",
    "#### Taking a 2D slice for each time step: $x^{\\langle t \\rangle}$\n",
    "* At each time step, you'll use a mini-batch of training examples (not just a single example)\n",
    "* So, for each time step $t$, you'll use a 2D slice of shape $(n_x,m)$\n",
    "* This 2D slice is referred to as $x^{\\langle t \\rangle}$.  The variable name in the code is `xt`.\n",
    "\n",
    "\n",
    "\n",
    "Backpropagation through LSTM is quite involved! It is like a 50 point final exam question.\n",
    "\n",
    "Also, I can not clearly visualize the dimensions in my head when I write the formula. Just remember that dx of x should be always same shape dayoooo. It is as simple as that \n",
    "\n",
    "It took me almost three hours to complete Assignment 1 (including the backpropagation part)."
   ]
  },
  {
   "cell_type": "code",
   "execution_count": null,
   "id": "bb7acdc3",
   "metadata": {},
   "outputs": [],
   "source": []
  }
 ],
 "metadata": {
  "kernelspec": {
   "display_name": "venv-karpathy",
   "language": "python",
   "name": "venv-karpathy"
  },
  "language_info": {
   "codemirror_mode": {
    "name": "ipython",
    "version": 3
   },
   "file_extension": ".py",
   "mimetype": "text/x-python",
   "name": "python",
   "nbconvert_exporter": "python",
   "pygments_lexer": "ipython3",
   "version": "3.11.6"
  }
 },
 "nbformat": 4,
 "nbformat_minor": 5
}
