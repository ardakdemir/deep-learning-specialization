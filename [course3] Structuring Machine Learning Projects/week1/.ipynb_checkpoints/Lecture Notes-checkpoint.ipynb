{
 "cells": [
  {
   "cell_type": "markdown",
   "id": "5c45299e",
   "metadata": {},
   "source": [
    "# Introduction to ML Strategy\n",
    "(module-level)"
   ]
  },
  {
   "cell_type": "markdown",
   "id": "0a3364cc",
   "metadata": {},
   "source": [
    "## Part 1. Why ML Strategy\n",
    "(video-level)\n",
    "\n",
    "\n",
    "Much more quickly and efficiently get your models working.\n",
    "\n",
    "\n",
    "Motivating example: Imagine you want to increase 90% accuracy of your cat classifier.\n",
    "\n",
    "You might have many ideas:\n",
    "- more data\n",
    "- more diverse set\n",
    "- training algorithm\n",
    "- ...\n",
    "\n",
    "\n",
    "There are sooo many things to try out. Only to realize for example more data barely changes the results. We need quick and effective ways to identify what ideas worth pursuing given a problem.\n",
    "\n",
    "This course teaches strategies and lessons learned for shipping large number of products: So stuff not really thought at school.\n",
    "\n",
    "- DL strategies are different than traditional ML strategies and constantly evolving!!\n",
    "\n"
   ]
  },
  {
   "cell_type": "markdown",
   "id": "c2a718e1",
   "metadata": {},
   "source": [
    "## Part 2. Orthogonalization\n",
    "\n",
    "One major challenge is sooo many things to try. \n",
    "\n",
    "Good ML engineers are very good at knowing what to change in order to get a desired change in the model performance.\n",
    "\n",
    "TV example:\n",
    "- Various knobs controlling various adjustments\n",
    "- Each knob has a distinct feature adjustment: vertical adjustment, horizontal adjustment, width etc.\n",
    "- Imagine that knobs change many things at once. \n",
    "- Orthogonalization: Each knob adjusts an distinct feature.\n",
    "\n",
    "\n",
    "Car example:\n",
    "- Steering \n",
    "- Accelerator\n",
    "- Braking\n",
    "Imagine these are controlled using same knob (e.g., 0.1 steering, 0.5 acceleration for a given button), it would be very hard to drive the car...\n",
    "\n",
    "You don't want your controllers to affect multiple things at once. In the car example, you dont want your accelerator change the direction of your car and vice-versa.\n",
    "\n",
    "\n",
    "Going back to ML: \n",
    "\n",
    "#### Chain of assumptions in ML \n",
    "In order of dependence you assume the following:\n",
    "\n",
    "- Fit training set well on cost function\n",
    "- (prior step assumes it helps) Fit dev set well on cost function\n",
    "- (which helps) Fit test set well on cost function\n",
    "- (which helps) Performs well in real world\n",
    "\n",
    "\n",
    "\n",
    "For each step, we need orthogonal (separate) set of things to try to achieve what you want.\n",
    "\n",
    "\n",
    "For example, if you are not achieving step 1 you try:\n",
    "\n",
    "- Bigger network\n",
    "- Adam optimization etc.\n",
    "\n",
    "But for step 2 you would try:\n",
    "\n",
    "- Regularization\n",
    "- Bigger training set\n",
    "\n",
    "\n",
    "Andrew personally doesn't like Early stopping because it affects the first two steps at the same time... But of course it is not too horrible to sometimes have knobs that affect two things.\n",
    "\n"
   ]
  },
  {
   "cell_type": "code",
   "execution_count": null,
   "id": "ef1fbe96",
   "metadata": {},
   "outputs": [],
   "source": []
  }
 ],
 "metadata": {
  "kernelspec": {
   "display_name": "venv-karpathy",
   "language": "python",
   "name": "venv-karpathy"
  },
  "language_info": {
   "codemirror_mode": {
    "name": "ipython",
    "version": 3
   },
   "file_extension": ".py",
   "mimetype": "text/x-python",
   "name": "python",
   "nbconvert_exporter": "python",
   "pygments_lexer": "ipython3",
   "version": "3.11.6"
  }
 },
 "nbformat": 4,
 "nbformat_minor": 5
}
