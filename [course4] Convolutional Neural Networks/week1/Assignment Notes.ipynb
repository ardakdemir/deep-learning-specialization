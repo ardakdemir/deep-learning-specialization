{
 "cells": [
  {
   "cell_type": "markdown",
   "id": "a13b63be",
   "metadata": {},
   "source": [
    "## Assignment 1"
   ]
  },
  {
   "cell_type": "markdown",
   "id": "d72bc7e0",
   "metadata": {},
   "source": [
    "The main benefits of padding are:\n",
    "\n",
    "- It allows you to use a CONV layer without necessarily shrinking the height and width of the volumes. This is important for building deeper networks, since otherwise the height/width would shrink as you go to deeper layers. An important special case is the \"same\" convolution, in which the height/width is exactly preserved after one layer. \n",
    "\n",
    "- It helps us keep more of the information at the border of an image. Without padding, very few values at the next layer would be affected by pixels at the edges of an image.\n"
   ]
  },
  {
   "cell_type": "code",
   "execution_count": 7,
   "id": "f12db83f",
   "metadata": {},
   "outputs": [],
   "source": [
    "import numpy as np\n",
    "\n",
    "a = np.random.randn(3,5,5)"
   ]
  },
  {
   "cell_type": "code",
   "execution_count": 8,
   "id": "1455a038",
   "metadata": {},
   "outputs": [
    {
     "data": {
      "text/plain": [
       "(3, 5, 5)"
      ]
     },
     "execution_count": 8,
     "metadata": {},
     "output_type": "execute_result"
    }
   ],
   "source": [
    "a.shape"
   ]
  },
  {
   "cell_type": "code",
   "execution_count": 9,
   "id": "3b275554",
   "metadata": {},
   "outputs": [],
   "source": [
    "a = np.pad(a,((1,1),(1,1),(1,1)),mode='constant', constant_values=(0,0))"
   ]
  },
  {
   "cell_type": "code",
   "execution_count": 10,
   "id": "ca46788e",
   "metadata": {},
   "outputs": [
    {
     "data": {
      "text/plain": [
       "(5, 7, 7)"
      ]
     },
     "execution_count": 10,
     "metadata": {},
     "output_type": "execute_result"
    }
   ],
   "source": [
    "a.shape"
   ]
  },
  {
   "cell_type": "code",
   "execution_count": 12,
   "id": "cd19ebec",
   "metadata": {},
   "outputs": [
    {
     "data": {
      "text/plain": [
       "(7, 7)"
      ]
     },
     "execution_count": 12,
     "metadata": {},
     "output_type": "execute_result"
    }
   ],
   "source": [
    "a[0].shape"
   ]
  },
  {
   "cell_type": "markdown",
   "id": "b44eb773",
   "metadata": {},
   "source": [
    "## Assignment 2"
   ]
  },
  {
   "cell_type": "markdown",
   "id": "5ef716cf",
   "metadata": {},
   "source": [
    "Sequential API\n",
    "\n",
    "\n",
    "- Learned about the Keras layers API\n",
    "- Important note that you have to EXPLICITLY declare the input_shape=(64,64,3) (without batch dimension) for the first layer when you use the Sequential API.\n",
    "- This is needed because once we know the first layer, we can compute the rest!!\n",
    "\n",
    "\n",
    "Functional API:\n",
    "\n",
    "- In this you start with the definition of input \n",
    "- And layer by layer, you declare what the input is \n",
    "- This allows you to create a DAG, because everything that is defined previously can be inputted to the subsequently defined operations.\n",
    "\n",
    "Example below"
   ]
  },
  {
   "cell_type": "code",
   "execution_count": 1,
   "id": "dc91b4e1",
   "metadata": {},
   "outputs": [
    {
     "name": "stderr",
     "output_type": "stream",
     "text": [
      "2023-12-28 10:04:23.378003: I tensorflow/core/platform/cpu_feature_guard.cc:182] This TensorFlow binary is optimized to use available CPU instructions in performance-critical operations.\n",
      "To enable the following instructions: AVX2 FMA, in other operations, rebuild TensorFlow with the appropriate compiler flags.\n"
     ]
    }
   ],
   "source": [
    "import tensorflow as tf\n",
    "import tensorflow.keras.layers as tfl"
   ]
  },
  {
   "cell_type": "code",
   "execution_count": 4,
   "id": "be04a76c",
   "metadata": {},
   "outputs": [],
   "source": [
    "# This is all you need!! \n",
    "input_shape = (64, 64, 3)\n",
    "input_img = tf.keras.Input(shape=input_shape)\n",
    "Z1 = tfl.Conv2D(filters=8,kernel_size=4,strides=1,padding='same')(input_img)\n",
    "A1 = tfl.ReLU()(Z1)\n",
    "P1 = tfl.MaxPooling2D(pool_size=8,strides=8,padding='same')(A1)\n",
    "Z2 = tfl.Conv2D(filters=16,kernel_size=2,strides=1,padding='same')(P1)\n",
    "A2 = tfl.ReLU()(Z2)\n",
    "P2 = tfl.MaxPooling2D(pool_size=4,strides=4,padding='same')(A2)\n",
    "F = tfl.Flatten()(P2)\n",
    "outputs = tfl.Dense(units=6,activation='softmax')(F)\n",
    "\n",
    "# YOUR CODE ENDS HERE\n",
    "model = tf.keras.Model(inputs=input_img, outputs=outputs)"
   ]
  },
  {
   "cell_type": "code",
   "execution_count": null,
   "id": "ac3b54a8",
   "metadata": {},
   "outputs": [],
   "source": []
  },
  {
   "cell_type": "code",
   "execution_count": null,
   "id": "c7f557e6",
   "metadata": {},
   "outputs": [],
   "source": []
  },
  {
   "cell_type": "code",
   "execution_count": null,
   "id": "5753bdde",
   "metadata": {},
   "outputs": [],
   "source": []
  },
  {
   "cell_type": "code",
   "execution_count": null,
   "id": "018d0a15",
   "metadata": {},
   "outputs": [],
   "source": []
  },
  {
   "cell_type": "code",
   "execution_count": null,
   "id": "5c344617",
   "metadata": {},
   "outputs": [],
   "source": []
  },
  {
   "cell_type": "code",
   "execution_count": null,
   "id": "758510d8",
   "metadata": {},
   "outputs": [],
   "source": []
  },
  {
   "cell_type": "code",
   "execution_count": null,
   "id": "9424e2f8",
   "metadata": {},
   "outputs": [],
   "source": []
  },
  {
   "cell_type": "code",
   "execution_count": null,
   "id": "d91228a4",
   "metadata": {},
   "outputs": [],
   "source": []
  },
  {
   "cell_type": "code",
   "execution_count": null,
   "id": "cb53faa8",
   "metadata": {},
   "outputs": [],
   "source": []
  },
  {
   "cell_type": "code",
   "execution_count": null,
   "id": "c3a531ca",
   "metadata": {},
   "outputs": [],
   "source": []
  },
  {
   "cell_type": "code",
   "execution_count": null,
   "id": "fd376087",
   "metadata": {},
   "outputs": [],
   "source": []
  },
  {
   "cell_type": "code",
   "execution_count": null,
   "id": "6dbe7a3f",
   "metadata": {},
   "outputs": [],
   "source": []
  },
  {
   "cell_type": "code",
   "execution_count": null,
   "id": "1173d595",
   "metadata": {},
   "outputs": [],
   "source": []
  },
  {
   "cell_type": "code",
   "execution_count": null,
   "id": "323b2c49",
   "metadata": {},
   "outputs": [],
   "source": []
  },
  {
   "cell_type": "code",
   "execution_count": null,
   "id": "8e15c105",
   "metadata": {},
   "outputs": [],
   "source": []
  },
  {
   "cell_type": "code",
   "execution_count": null,
   "id": "88da0543",
   "metadata": {},
   "outputs": [],
   "source": []
  }
 ],
 "metadata": {
  "kernelspec": {
   "display_name": "venv-karpathy",
   "language": "python",
   "name": "venv-karpathy"
  },
  "language_info": {
   "codemirror_mode": {
    "name": "ipython",
    "version": 3
   },
   "file_extension": ".py",
   "mimetype": "text/x-python",
   "name": "python",
   "nbconvert_exporter": "python",
   "pygments_lexer": "ipython3",
   "version": "3.11.6"
  }
 },
 "nbformat": 4,
 "nbformat_minor": 5
}
