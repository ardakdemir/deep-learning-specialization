{
 "cells": [
  {
   "cell_type": "markdown",
   "id": "ed173a38",
   "metadata": {},
   "source": [
    "# Assignment 1\n",
    "\n",
    "There are two types of residual blocks:\n",
    "\n",
    "- Identity block: Residual connection is input as is\n",
    "- Convolution block: If the input/output sizes don't match, we apply convolution on the residual connection first and then add it! We also apply batch norm on the residual connection after conv2d and then add it to the output of the last output of the block before ReLU.\n",
    "\n",
    "The ResNet \"convolutional block\" is the second block type. You can use this type of block when the input and output dimensions don't match up. The difference with the identity block is that there is a CONV2D layer in the shortcut path.\n",
    "\n",
    "\n"
   ]
  },
  {
   "cell_type": "markdown",
   "id": "22fd5f23",
   "metadata": {},
   "source": [
    "<font color = 'blue'>\n",
    "\n",
    "**What you should remember**:\n",
    "\n",
    "- Very deep \"plain\" networks don't work in practice because vanishing gradients make them hard to train.  \n",
    "- Skip connections help address the Vanishing Gradient problem. They also make it easy for a ResNet block to learn an identity function. \n",
    "- There are two main types of blocks: The **identity block** and the **convolutional block**. \n",
    "- Very deep Residual Networks are built by stacking these blocks together."
   ]
  },
  {
   "cell_type": "markdown",
   "id": "4df69fff",
   "metadata": {},
   "source": [
    "# Assignment 2 \n",
    "\n",
    "<font color = 'blue'>\n",
    "\n",
    "**What you should remember:**\n",
    "\n",
    "* When calling image_data_set_from_directory(), specify the train/val subsets and match the seeds to prevent overlap\n",
    "* Use prefetch() to prevent memory bottlenecks when reading from disk\n",
    "* Give your model more to learn from with simple data augmentations like rotation and flipping.\n",
    "* When using a pretrained model, it's best to reuse the weights it was trained on."
   ]
  },
  {
   "cell_type": "markdown",
   "id": "6e90ccad",
   "metadata": {},
   "source": [
    "<font color='blue'>\n",
    "\n",
    "**What you should remember**:\n",
    "\n",
    "* To adapt the classifier to new data: Delete the top layer, add a new classification layer, and train only on that layer\n",
    "* When freezing layers, avoid keeping track of statistics (like in the batch normalization layer)\n",
    "* Fine-tune the final layers of your model to capture high-level details near the end of the network and potentially improve accuracy "
   ]
  },
  {
   "cell_type": "code",
   "execution_count": null,
   "id": "eaf37fb1",
   "metadata": {},
   "outputs": [],
   "source": []
  }
 ],
 "metadata": {
  "kernelspec": {
   "display_name": "venv-karpathy",
   "language": "python",
   "name": "venv-karpathy"
  },
  "language_info": {
   "codemirror_mode": {
    "name": "ipython",
    "version": 3
   },
   "file_extension": ".py",
   "mimetype": "text/x-python",
   "name": "python",
   "nbconvert_exporter": "python",
   "pygments_lexer": "ipython3",
   "version": "3.11.6"
  }
 },
 "nbformat": 4,
 "nbformat_minor": 5
}
