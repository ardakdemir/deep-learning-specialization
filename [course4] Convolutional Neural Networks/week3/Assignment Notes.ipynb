{
 "cells": [
  {
   "cell_type": "markdown",
   "id": "b6d99fab",
   "metadata": {},
   "source": [
    "# Assigment I"
   ]
  },
  {
   "cell_type": "markdown",
   "id": "305d258b",
   "metadata": {},
   "source": [
    "YOLO paper: https://arxiv.org/pdf/1506.02640.pdf\n",
    "\n",
    "TBH, I didn't fully understand the internal mechanics of the algorithm  but i am confident if i was given the task i could design it in a similar way..."
   ]
  },
  {
   "cell_type": "markdown",
   "id": "48cda7dc",
   "metadata": {},
   "source": [
    "# Assignment II\n",
    "\n",
    "<font color='blue'>\n",
    "    \n",
    "**What you should remember**: \n",
    "\n",
    "* Semantic image segmentation predicts a label for every single pixel in an image\n",
    "* U-Net uses an equal number of convolutional blocks and transposed convolutions for downsampling and upsampling\n",
    "* Skip connections are used to prevent border pixel information loss and overfitting in U-Net"
   ]
  }
 ],
 "metadata": {
  "kernelspec": {
   "display_name": "venv-karpathy",
   "language": "python",
   "name": "venv-karpathy"
  },
  "language_info": {
   "codemirror_mode": {
    "name": "ipython",
    "version": 3
   },
   "file_extension": ".py",
   "mimetype": "text/x-python",
   "name": "python",
   "nbconvert_exporter": "python",
   "pygments_lexer": "ipython3",
   "version": "3.11.6"
  }
 },
 "nbformat": 4,
 "nbformat_minor": 5
}
